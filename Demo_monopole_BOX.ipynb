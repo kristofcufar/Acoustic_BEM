{
 "cells": [
  {
   "cell_type": "code",
   "execution_count": 1,
   "id": "3c118a35",
   "metadata": {},
   "outputs": [],
   "source": [
    "import numpy as np\n",
    "import pyvista as pv\n",
    "import matplotlib.pyplot as plt\n",
    "import matplotlib.colors as colors\n",
    "import imageio.v2 as iio\n",
    "from io import BytesIO\n",
    "\n",
    "import time\n",
    "\n",
    "from acoustic_BEM.geometry import Body, Field, box_mesh\n",
    "from acoustic_BEM.mesh import Mesh\n",
    "from acoustic_BEM.integrators import ElementIntegratorCollocation\n",
    "from acoustic_BEM.matrix_assembly import CollocationAssembler\n",
    "from acoustic_BEM.solve import BEMSolver\n",
    "\n",
    "%load_ext autoreload\n",
    "%autoreload 2"
   ]
  },
  {
   "cell_type": "code",
   "execution_count": 2,
   "id": "eb909b91",
   "metadata": {},
   "outputs": [
    {
     "data": {
      "application/vnd.jupyter.widget-view+json": {
       "model_id": "c5b45dfbe0544ba9983679a4c0a0e080",
       "version_major": 2,
       "version_minor": 0
      },
      "text/plain": [
       "Widget(value='<iframe src=\"http://localhost:60495/index.html?ui=P_0x2241f1b4b10_0&reconnect=auto\" class=\"pyvis…"
      ]
     },
     "metadata": {},
     "output_type": "display_data"
    }
   ],
   "source": [
    "def icosahedron():\n",
    "    t = (1.0 + np.sqrt(5.0)) / 2.0\n",
    "    V = np.array([\n",
    "        [-1,  t, 0],\n",
    "        [ 1,  t, 0],\n",
    "        [-1, -t, 0],\n",
    "        [ 1, -t, 0],\n",
    "        [ 0, -1,  t],\n",
    "        [ 0,  1,  t],\n",
    "        [ 0, -1, -t],\n",
    "        [ 0,  1, -t],\n",
    "        [ t,  0, -1],\n",
    "        [ t,  0,  1],\n",
    "        [-t,  0, -1],\n",
    "        [-t,  0,  1],\n",
    "    ], dtype=float)\n",
    "    V /= np.linalg.norm(V, axis=1)[:, None]\n",
    "    F = np.array([\n",
    "        [0, 11, 5], [0, 5, 1], [0, 1, 7], [0, 7,10], [0,10,11],\n",
    "        [1, 5, 9], [5,11, 4], [11,10,2], [10,7,6], [7, 1, 8],\n",
    "        [3, 9, 4], [3, 4, 2], [3, 2, 6], [3, 6, 8], [3, 8, 9],\n",
    "        [4, 9, 5], [2, 4,11], [6, 2,10], [8, 6, 7], [9, 8, 1]\n",
    "    ], dtype=int)\n",
    "    return V, F\n",
    "\n",
    "def subdivide_sphere(V, F, levels=1):\n",
    "    \"\"\"Loop-subdivide each triangle and re-project to unit sphere.\"\"\"\n",
    "    for _ in range(levels):\n",
    "        mid_cache = {}\n",
    "        newF = []\n",
    "        def midpoint(i, j):\n",
    "            key = tuple(sorted((i, j)))\n",
    "            if key in mid_cache: return mid_cache[key]\n",
    "            m = (V[i] + V[j]) * 0.5\n",
    "            m = m / np.linalg.norm(m)\n",
    "            idx = len(V_list)\n",
    "            V_list.append(m)\n",
    "            mid_cache[key] = idx\n",
    "            return idx\n",
    "        V_list = [v.copy() for v in V]\n",
    "        for a,b,c in F:\n",
    "            ab = midpoint(a,b)\n",
    "            bc = midpoint(b,c)\n",
    "            ca = midpoint(c,a)\n",
    "            newF += [\n",
    "                [a, ab, ca],\n",
    "                [b, bc, ab],\n",
    "                [c, ca, bc],\n",
    "                [ab, bc, ca],\n",
    "            ]\n",
    "        V = np.asarray(V_list)\n",
    "        F = np.asarray(newF, dtype=int)\n",
    "    return V, F\n",
    "\n",
    "## Uncomment to visualize the mesh\n",
    "a = 0.075              # sphere radius [m]\n",
    "subdiv = 3\n",
    "V, F = icosahedron()\n",
    "V, F = subdivide_sphere(V, F, levels=subdiv)\n",
    "V = a * V\n",
    "\n",
    "box = box_mesh(center = (0, 0, -2*a),\n",
    "               size = (a*4, a*4, a*2),\n",
    "               divisions = 20)\n",
    "\n",
    "box_pv = pv.PolyData(box[0], np.hstack([np.full((box[1].shape[0],1),3), box[1]]))\n",
    "\n",
    "pl = pv.Plotter()\n",
    "pv_mesh = pv.PolyData(V, np.hstack([np.full((F.shape[0],1),3), F]))\n",
    "pl.add_mesh(pv_mesh, show_edges=True)\n",
    "pl.add_mesh(box_pv, show_edges=True, color='lightgray')\n",
    "pl.show()"
   ]
  },
  {
   "cell_type": "code",
   "execution_count": 3,
   "id": "7416985e",
   "metadata": {},
   "outputs": [],
   "source": [
    "# Field point array\n",
    "plane_extent = 0.5\n",
    "plane_pts = 200\n",
    "\n",
    "# mesh and conditions setup\n",
    "frequency = 1000                       # frequency [Hz]\n",
    "c0 = 343                               # speed of sound [m/s]\n",
    "omega = 2 * np.pi * frequency          # angular frequency [rad/s]\n",
    "k = omega / c0                         # wavenumber [rad/m]\n",
    "rho0 = 1.225                           # density of air [kg/m^3]\n",
    "\n",
    "radius = 0.075                         # radius of pulsating sphere [m]\n",
    "Vn = 1.0 + 0j                          # normal velocity on sphere surface [m/s]\n",
    "subdiv = 2                             # mesh subdivision level\n",
    "nodes, elements = icosahedron()\n",
    "nodes, elements = subdivide_sphere(nodes, elements, levels=subdiv)\n",
    "nodes *= radius\n",
    "\n",
    "vel_BC = np.ones(nodes.shape[0]) * Vn\n",
    "\n",
    "Lx = np.max(nodes[:, 0]) - np.min(nodes[:, 0])\n",
    "Ly = np.max(nodes[:, 1]) - np.min(nodes[:, 1])\n",
    "Lz = np.max(nodes[:, 2]) - np.min(nodes[:, 2])\n",
    "\n",
    "char_length = np.max([Lx, Ly, Lz])\n",
    "\n",
    "# plane_extent = 5 * char_length\n",
    "\n",
    "xs = np.linspace(-plane_extent, plane_extent, plane_pts)\n",
    "zs = np.linspace(-plane_extent, plane_extent, plane_pts)\n",
    "XX, ZZ = np.meshgrid(xs, zs)\n",
    "YY = np.zeros_like(XX)\n",
    "\n",
    "field_pts = np.column_stack([XX.ravel(), YY.ravel(), ZZ.ravel()])\n",
    "\n",
    "# center = nodes.mean(axis=0)\n",
    "# r_exclude = 0.5 * char_length * 1.05\n",
    "\n",
    "# dist = np.linalg.norm(field_pts - center, axis=1)\n",
    "# mask = dist > r_exclude\n",
    "\n",
    "# field_pts_safe = field_pts[mask, :]\n",
    "\n",
    "field_pts_safe = field_pts\n",
    "mask = np.ones(field_pts.shape[0], dtype=bool)\n",
    "\n",
    "# plane_point = np.array([0.0, 0.0, -0.4])\n",
    "# plane_normal = np.array([0.0, 0.0, 1.0])"
   ]
  },
  {
   "cell_type": "code",
   "execution_count": 4,
   "id": "d12397b8",
   "metadata": {},
   "outputs": [],
   "source": [
    "# Init package objects\n",
    "\n",
    "\n",
    "sphere = Body(mesh_nodes=nodes, \n",
    "              mesh_elements=elements, \n",
    "              Neumann_BC=vel_BC,\n",
    "              Dirichlet_BC=None,\n",
    "              frequency=frequency)\n",
    "\n",
    "box = box_mesh(center = (0, 0, -3*a),\n",
    "                   size = (a*4, a*4, a*2),\n",
    "                   divisions = 4)\n",
    "\n",
    "table = Body(mesh_nodes=box[0], \n",
    "                  mesh_elements=box[1], \n",
    "                  Neumann_BC=np.zeros(box[0].shape[0]),\n",
    "                  Dirichlet_BC=None)\n",
    "\n",
    "field = Field(field_extent=np.array([[-plane_extent, plane_extent],\n",
    "              [0, 0.5],\n",
    "              [-plane_extent, plane_extent]]),\n",
    "              num_points=np.array([plane_pts, 1, plane_pts]),\n",
    "              rho0=rho0,\n",
    "              c0=c0,\n",
    "              field_type=\"free\")\n",
    "\n",
    "mesh = Mesh(source_object=sphere,\n",
    "            peripheral_objects=[table],\n",
    "            field=field)\n",
    "\n",
    "integrator = ElementIntegratorCollocation(k = mesh.k,\n",
    "                                          kernel_mode = \"free\")\n",
    "assembler = CollocationAssembler(mesh, integrator)\n",
    "solver = BEMSolver(assembler=assembler)"
   ]
  },
  {
   "cell_type": "code",
   "execution_count": 32,
   "id": "d3b88dcb",
   "metadata": {},
   "outputs": [],
   "source": [
    "field_point_cloud = pv.PolyData(field_pts)\n",
    "\n",
    "def faces_to_vtk(faces_conn):\n",
    "    k = faces_conn.shape[1]\n",
    "    return np.hstack([np.c_[np.full((faces_conn.shape[0], 1), k), faces_conn].ravel()])\n",
    "\n",
    "sphere_surf = pv.PolyData(nodes * 1.05, faces_to_vtk(elements))\n",
    "table_surf = pv.PolyData(box[0], faces_to_vtk(box[1]))\n",
    "\n",
    "inside_sphere_tagged = field_point_cloud.select_enclosed_points(sphere_surf, tolerance=1e-6, check_surface=False)\n",
    "inside_table_tagged = field_point_cloud.select_enclosed_points(table_surf, tolerance=1e-6, check_surface=False)\n",
    "\n",
    "mask_sphere = inside_sphere_tagged['SelectedPoints'].view(np.bool_)\n",
    "mask_table = inside_table_tagged['SelectedPoints'].view(np.bool_)\n",
    "\n",
    "outside_both = ~(mask_sphere | mask_table)\n",
    "field_pts_safe = field_pts[outside_both, :]\n",
    "mask = outside_both"
   ]
  },
  {
   "cell_type": "code",
   "execution_count": 33,
   "id": "7a8bc9f7",
   "metadata": {},
   "outputs": [
    {
     "name": "stdout",
     "output_type": "stream",
     "text": [
      "Assembling matrices...\n"
     ]
    },
    {
     "data": {
      "application/vnd.jupyter.widget-view+json": {
       "model_id": "12c4d9d098b3405ea06552da60bc1447",
       "version_major": 2,
       "version_minor": 0
      },
      "text/plain": [
       "Assembling S matrix:   0%|          | 0/260 [00:00<?, ?it/s]"
      ]
     },
     "metadata": {},
     "output_type": "display_data"
    },
    {
     "data": {
      "application/vnd.jupyter.widget-view+json": {
       "model_id": "0f824b55324248d9b1fb8e0c83e6320d",
       "version_major": 2,
       "version_minor": 0
      },
      "text/plain": [
       "Assembling D matrix:   0%|          | 0/260 [00:00<?, ?it/s]"
      ]
     },
     "metadata": {},
     "output_type": "display_data"
    },
    {
     "name": "stdout",
     "output_type": "stream",
     "text": [
      "  ... done in 4.38 s.\n",
      "Solving BIE...\n",
      "  ... done in 0.01 s.\n",
      "Evaluating field...\n"
     ]
    },
    {
     "data": {
      "application/vnd.jupyter.widget-view+json": {
       "model_id": "82a72efcdcca41bbb4036113dd689775",
       "version_major": 2,
       "version_minor": 0
      },
      "text/plain": [
       "Evaluating pressure field at points:   0%|          | 0/512 [00:00<?, ?it/s]"
      ]
     },
     "metadata": {},
     "output_type": "display_data"
    },
    {
     "name": "stdout",
     "output_type": "stream",
     "text": [
      "  ... done in 15.85 s.\n"
     ]
    }
   ],
   "source": [
    "t_start = time.time()\n",
    "print(\"Assembling matrices...\")\n",
    "mats = {\n",
    "    \"S\": assembler.assemble(\"S\"),\n",
    "    \"D\": assembler.assemble(\"D\"),\n",
    "    # Kp and N not needed for this solve\n",
    "}\n",
    "\n",
    "# mats_bm = {\n",
    "#     \"S\": assembler.assemble(\"S\"),\n",
    "#     \"D\": assembler.assemble(\"D\"),\n",
    "#     \"Kp\": assembler.assemble(\"Kp\"),\n",
    "#     \"N\": assembler.assemble(\"NReg\"),\n",
    "# }\n",
    "\n",
    "t_assembly = time.time()\n",
    "print(f\"  ... done in {t_assembly - t_start:.2f} s.\")\n",
    "\n",
    "# --- solve BIE for Neumann BC (normal velocity) ---\n",
    "print(\"Solving BIE...\")\n",
    "phi_bnd = solver.solve_direct(matrices=mats)\n",
    "# phi_bnd = solver.solve_burton_miller(matrices=mats_bm,\n",
    "#                                      alpha = -1j/mesh.k)\n",
    "t_solve = time.time()\n",
    "print(f\"  ... done in {t_solve - t_assembly:.2f} s.\")\n",
    "\n",
    "# --- Evaluate **potential** then convert to pressure\n",
    "print(\"Evaluating field...\")\n",
    "phi_field = solver.evaluate_field(field_pts_safe, quad_order=3)\n",
    "p_field = 1j * omega * rho0 * phi_field\n",
    "p_full = np.full(field_pts.shape[0], np.nan, dtype=complex)\n",
    "p_full[mask] = p_field\n",
    "P_grid = p_full.reshape(XX.shape)\n",
    "t_evaluate = time.time()\n",
    "print(f\"  ... done in {t_evaluate - t_solve:.2f} s.\")"
   ]
  },
  {
   "cell_type": "code",
   "execution_count": 34,
   "id": "58f5f8e1",
   "metadata": {},
   "outputs": [
    {
     "data": {
      "image/png": "[encoded data removed]",
      "text/plain": [
       "<Figure size 700x600 with 2 Axes>"
      ]
     },
     "metadata": {},
     "output_type": "display_data"
    }
   ],
   "source": [
    "plt.figure(figsize=(7, 6))\n",
    "plt.pcolormesh(XX, ZZ, np.abs(P_grid), \n",
    "               shading=\"auto\", cmap=\"viridis\", \n",
    "               norm= colors.LogNorm(vmin=3, vmax=np.nanmax(np.abs(P_grid))))\n",
    "\n",
    "plt.xlim(-0.4, 0.4)\n",
    "plt.ylim(-0.4, 0.4)\n",
    "plt.colorbar(label=r\" Amplitude $p(x,z)$ [Pa]\")\n",
    "plt.xlabel(\"x [m]\")\n",
    "plt.ylabel(\"z [m]\")\n",
    "plt.title(\"BEM monopole\")\n",
    "plt.gca().set_aspect(\"equal\")\n",
    "plt.tight_layout()"
   ]
  },
  {
   "cell_type": "code",
   "execution_count": 35,
   "id": "c7f0aa5a",
   "metadata": {},
   "outputs": [],
   "source": [
    "omega = 2 * np.pi * frequency\n",
    "period = 2 * np.pi / omega\n",
    "n_frames = 40\n",
    "\n",
    "max_amp = np.nanmax(np.abs(P_grid))\n",
    "\n",
    "frames = []\n",
    "temp_writter = iio.get_writer('Monopole_BOX.gif', \n",
    "                              mode='I', \n",
    "                              duration=1,\n",
    "                              loop=0)\n",
    "\n",
    "with temp_writter as writer:\n",
    "    for i in range(n_frames):\n",
    "        t = i / n_frames * period\n",
    "        p_inst = np.real(P_grid * np.exp(-1j * omega * t))\n",
    "\n",
    "        fig, ax = plt.subplots(figsize=(7, 6))\n",
    "        im = ax.imshow(\n",
    "            p_inst,\n",
    "            extent=[XX.min(), XX.max(), ZZ.min(), ZZ.max()],\n",
    "            origin=\"lower\",\n",
    "            cmap=\"viridis\",\n",
    "            vmin = -max_amp,\n",
    "            vmax = max_amp,\n",
    "        )\n",
    "\n",
    "        ax.set_xlabel(\"x [m]\")\n",
    "        ax.set_ylabel(\"z [m]\")\n",
    "        ax.set_aspect(\"equal\")\n",
    "        fig.colorbar(im, ax=ax, label=\"Pressure [Pa]\")\n",
    "\n",
    "        buffer = BytesIO()\n",
    "        fig.savefig(buffer, format=\"png\", bbox_inches=\"tight\")\n",
    "        buffer.seek(0)\n",
    "        frame = iio.imread(buffer)\n",
    "        writer.append_data(frame)\n",
    "        plt.close(fig)\n",
    "\n",
    "buffer.close()\n",
    "writer.close()"
   ]
  },
  {
   "cell_type": "code",
   "execution_count": null,
   "id": "50744ed3",
   "metadata": {},
   "outputs": [],
   "source": []
  },
  {
   "cell_type": "code",
   "execution_count": null,
   "id": "2b165fe5",
   "metadata": {},
   "outputs": [],
   "source": []
  }
 ],
 "metadata": {
  "kernelspec": {
   "display_name": ".venv",
   "language": "python",
   "name": "python3"
  },
  "language_info": {
   "codemirror_mode": {
    "name": "ipython",
    "version": 3
   },
   "file_extension": ".py",
   "mimetype": "text/x-python",
   "name": "python",
   "nbconvert_exporter": "python",
   "pygments_lexer": "ipython3",
   "version": "3.11.5"
  }
 },
 "nbformat": 4,
 "nbformat_minor": 5
}
