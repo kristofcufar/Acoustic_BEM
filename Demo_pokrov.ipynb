{
 "cells": [
  {
   "cell_type": "code",
   "execution_count": 1,
   "id": "e2411149",
   "metadata": {},
   "outputs": [],
   "source": [
    "import numpy as np\n",
    "import matplotlib.pyplot as plt\n",
    "import matplotlib.colors as colors\n",
    "import pyvista as pv\n",
    "\n",
    "import imageio.v2 as iio\n",
    "from io import BytesIO\n",
    "\n",
    "import time\n",
    "\n",
    "from source.mesh import Mesh\n",
    "from source.integrators import (ElementIntegratorCollocation, \n",
    "                                ElementIntegratorGalerkin)\n",
    "from source.matrix_assembly import (CollocationAssembler, \n",
    "                                    GalerkinAssembler)\n",
    "from source.solve import BEMSolver\n",
    "\n",
    "%load_ext autoreload\n",
    "%autoreload 2"
   ]
  },
  {
   "cell_type": "code",
   "execution_count": 2,
   "id": "edc013d1",
   "metadata": {},
   "outputs": [
    {
     "name": "stdout",
     "output_type": "stream",
     "text": [
      "Mesh has 1520 vertices and 2404 faces.\n",
      "Characteristic length: 0.11 m\n",
      "Wavenumber: 4.40 1/m\n",
      "k*L = 0.50\n",
      "Wavelength: 1.43 m\n",
      "Velocity BC: 0.0000 to 2.7401 m/s\n"
     ]
    }
   ],
   "source": [
    "# data_repo = 'C:\\\\Users\\\\kristofc\\\\Doktorat\\\\Projekti\\\\Clanek_III\\\\Data_pokrov'\n",
    "data_repo = 'D:\\\\Kristof Cufar\\\\Clanek_III\\\\Data_pokrov'\n",
    "\n",
    "mesh = pv.read(f'{data_repo}\\\\Pokrov_smooth_decimated.vtk')\n",
    "disp_BC = np.load(f'{data_repo}\\\\html_data\\\\mode_shape_1.npy')\n",
    "\n",
    "nodes = mesh.points\n",
    "elements = mesh.faces.reshape((-1, 4))[:, 1:4]\n",
    "\n",
    "frequency = 240\n",
    "c0 = 343\n",
    "omega = 2 * np.pi * frequency\n",
    "k = omega / c0\n",
    "rho0 = 1.225\n",
    "\n",
    "vel_BC = -1j * omega * disp_BC\n",
    "\n",
    "# Get mesh dimensions\n",
    "Lx = np.max(nodes[:, 0]) - np.min(nodes[:, 0])\n",
    "Ly = np.max(nodes[:, 1]) - np.min(nodes[:, 1])\n",
    "Lz = np.max(nodes[:, 2]) - np.min(nodes[:, 2])\n",
    "\n",
    "char_length = np.max([Lx, Ly, Lz])\n",
    "\n",
    "plane_extent = 5 * char_length\n",
    "plane_pts = 200\n",
    "\n",
    "# --- Build evaluation grid in x–z plane ---\n",
    "xs = np.linspace(-plane_extent, plane_extent, plane_pts)\n",
    "zs = np.linspace(-plane_extent, plane_extent, plane_pts)\n",
    "XX, ZZ = np.meshgrid(xs, zs)\n",
    "YY = np.zeros_like(XX)\n",
    "\n",
    "field_pts = np.column_stack([XX.ravel(), YY.ravel(), ZZ.ravel()])\n",
    "\n",
    "center = nodes.mean(axis=0)\n",
    "r_exclude = 0.5 * char_length * 1.05\n",
    "\n",
    "dist = np.linalg.norm(field_pts - center, axis=1)\n",
    "mask = dist > r_exclude\n",
    "\n",
    "field_pts_safe = field_pts[mask, :]\n",
    "\n",
    "print(f'Mesh has {nodes.shape[0]} vertices and {elements.shape[0]} faces.')\n",
    "print(f'Characteristic length: {char_length:.2f} m')\n",
    "print(f'Wavenumber: {k:.2f} 1/m')\n",
    "print(f'k*L = {k*char_length:.2f}')\n",
    "print(f'Wavelength: {2*np.pi/k:.2f} m')\n",
    "print(f'Velocity BC: {np.min(np.abs(vel_BC)):.4f} to {np.max(np.abs(vel_BC)):.4f} m/s')\n",
    "\n",
    "# pl = pv.Plotter()\n",
    "# pl.add_mesh(mesh, color='white', show_edges=True)\n",
    "# pl.show()"
   ]
  },
  {
   "cell_type": "code",
   "execution_count": 3,
   "id": "6732dc53",
   "metadata": {},
   "outputs": [],
   "source": [
    "mesh = Mesh(mesh_nodes=nodes, \n",
    "            mesh_elements=elements, \n",
    "            Neumann_BC=vel_BC,\n",
    "            Dirichlet_BC=None,\n",
    "            frequency=frequency, \n",
    "            c0=c0, \n",
    "            rho0=rho0)\n",
    "# integrator = ElementIntegratorCollocation(k = mesh.k)\n",
    "integrator = ElementIntegratorGalerkin(k = mesh.k)\n",
    "# assembler = CollocationAssembler(mesh, integrator)\n",
    "assembler = GalerkinAssembler(mesh, integrator)\n",
    "solver = BEMSolver(assembler=assembler)"
   ]
  },
  {
   "cell_type": "code",
   "execution_count": 4,
   "id": "965f18a4",
   "metadata": {},
   "outputs": [
    {
     "name": "stdout",
     "output_type": "stream",
     "text": [
      "Assembling matrices...\n",
      "  ... done in 0.00 s.\n",
      "Solving BIE...\n",
      "  ... done in 542.51 s.\n",
      "Evaluating field...\n",
      "  ... done in 69.64 s.\n"
     ]
    }
   ],
   "source": [
    "t_start = time.time()\n",
    "print(\"Assembling matrices...\")\n",
    "# mats = {\n",
    "#     \"S\": assembler.assemble(\"S\"),\n",
    "#     \"D\": assembler.assemble(\"D\"),\n",
    "#     # Kp and N not needed for this solve\n",
    "# }\n",
    "\n",
    "# mats_bm = {\n",
    "#     \"S\": assembler.assemble(\"S\"),\n",
    "#     \"D\": assembler.assemble(\"D\"),\n",
    "#     \"Kp\": assembler.assemble(\"Kp\"),\n",
    "#     \"N\": assembler.assemble(\"NReg\"),\n",
    "# }\n",
    "\n",
    "t_assembly = time.time()\n",
    "print(f\"  ... done in {t_assembly - t_start:.2f} s.\")\n",
    "\n",
    "# --- solve BIE for Neumann BC (normal velocity) ---\n",
    "print(\"Solving BIE...\")\n",
    "# phi_bnd = solver.solve_direct(matrices=None, bc_type=\"Neumann\")\n",
    "phi_bnd = solver.solve_burton_miller(matrices=None,\n",
    "                                     alpha = -1j/mesh.k)\n",
    "t_solve = time.time()\n",
    "print(f\"  ... done in {t_solve - t_assembly:.2f} s.\")\n",
    "\n",
    "# --- Evaluate **potential** then convert to pressure\n",
    "print(\"Evaluating field...\")\n",
    "phi_field = solver.evaluate_field(field_pts_safe, quad_order=3)\n",
    "p_field = 1j * omega * rho0 * phi_field\n",
    "p_full = np.full(field_pts.shape[0], np.nan, dtype=complex)\n",
    "p_full[mask] = p_field\n",
    "P_grid = p_full.reshape(XX.shape)\n",
    "t_evaluate = time.time()\n",
    "print(f\"  ... done in {t_evaluate - t_solve:.2f} s.\")"
   ]
  },
  {
   "cell_type": "code",
   "execution_count": 5,
   "id": "b0293253",
   "metadata": {},
   "outputs": [
    {
     "data": {
      "image/png": "[encoded data removed]",
      "text/plain": [
       "<Figure size 700x600 with 2 Axes>"
      ]
     },
     "metadata": {},
     "output_type": "display_data"
    }
   ],
   "source": [
    "# --- Plot 2D heatmap of |p| ---\n",
    "plt.figure(figsize=(7, 6))\n",
    "plt.pcolormesh(XX, ZZ, np.abs(P_grid), \n",
    "               shading=\"auto\", cmap=\"viridis\", \n",
    "               norm= colors.LogNorm(vmin=3, vmax=np.nanmax(np.abs(P_grid))))\n",
    "plt.xlim(-0.4, 0.4)\n",
    "plt.ylim(-0.4, 0.4)\n",
    "plt.colorbar(label=r\" Amplitude $p(x,z)$ [Pa]\")\n",
    "plt.xlabel(\"x [m]\")\n",
    "plt.ylabel(\"z [m]\")\n",
    "plt.title(\"BEM pressure amplitude (cover, mode shape 1)\")\n",
    "plt.gca().set_aspect(\"equal\")\n",
    "plt.tight_layout()"
   ]
  },
  {
   "cell_type": "code",
   "execution_count": 6,
   "id": "c04feafa",
   "metadata": {},
   "outputs": [],
   "source": [
    "omega = 2 * np.pi * frequency\n",
    "period = 2 * np.pi / omega\n",
    "n_frames = 40\n",
    "\n",
    "max_amp = np.nanmax(np.abs(P_grid))\n",
    "\n",
    "frames = []\n",
    "temp_writter = iio.get_writer('mode_1_Galerkin_BM.gif', \n",
    "                              mode='I', \n",
    "                              duration=1,\n",
    "                              loop=0)\n",
    "\n",
    "with temp_writter as writer:\n",
    "    for i in range(n_frames):\n",
    "        t = i / n_frames * period\n",
    "        p_inst = np.real(P_grid * np.exp(-1j * omega * t))\n",
    "\n",
    "        fig, ax = plt.subplots(figsize=(7, 6))\n",
    "        im = ax.imshow(\n",
    "            p_inst,\n",
    "            extent=[XX.min(), XX.max(), ZZ.min(), ZZ.max()],\n",
    "            origin=\"lower\",\n",
    "            cmap=\"viridis\",\n",
    "            vmin = -max_amp,\n",
    "            vmax = max_amp,\n",
    "        )\n",
    "\n",
    "        ax.set_xlabel(\"x [m]\")\n",
    "        ax.set_ylabel(\"z [m]\")\n",
    "        ax.set_aspect(\"equal\")\n",
    "        fig.colorbar(im, ax=ax, label=\"Pressure [Pa]\")\n",
    "\n",
    "        buffer = BytesIO()\n",
    "        fig.savefig(buffer, format=\"png\", bbox_inches=\"tight\")\n",
    "        buffer.seek(0)\n",
    "        frame = iio.imread(buffer)\n",
    "        writer.append_data(frame)\n",
    "        plt.close(fig)\n",
    "\n",
    "buffer.close()\n",
    "writer.close()"
   ]
  },
  {
   "cell_type": "code",
   "execution_count": null,
   "id": "ece10773",
   "metadata": {},
   "outputs": [],
   "source": []
  }
 ],
 "metadata": {
  "kernelspec": {
   "display_name": ".venv",
   "language": "python",
   "name": "python3"
  },
  "language_info": {
   "codemirror_mode": {
    "name": "ipython",
    "version": 3
   },
   "file_extension": ".py",
   "mimetype": "text/x-python",
   "name": "python",
   "nbconvert_exporter": "python",
   "pygments_lexer": "ipython3",
   "version": "3.12.9"
  }
 },
 "nbformat": 4,
 "nbformat_minor": 5
}
