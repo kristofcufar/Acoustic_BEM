{
 "cells": [
  {
   "cell_type": "code",
   "execution_count": 1,
   "id": "3c118a35",
   "metadata": {},
   "outputs": [],
   "source": [
    "import numpy as np\n",
    "import matplotlib.pyplot as plt\n",
    "import matplotlib.colors as colors\n",
    "import imageio.v2 as iio\n",
    "from io import BytesIO\n",
    "\n",
    "import time\n",
    "\n",
    "from acoustic_BEM.mesh import Mesh\n",
    "from acoustic_BEM.integrators import ElementIntegratorCollocation\n",
    "from acoustic_BEM.matrix_assembly import CollocationAssembler\n",
    "from acoustic_BEM.solve import BEMSolver\n",
    "\n",
    "%load_ext autoreload\n",
    "%autoreload 2"
   ]
  },
  {
   "cell_type": "code",
   "execution_count": 2,
   "id": "eb909b91",
   "metadata": {},
   "outputs": [],
   "source": [
    "def icosahedron():\n",
    "    t = (1.0 + np.sqrt(5.0)) / 2.0\n",
    "    V = np.array([\n",
    "        [-1,  t, 0],\n",
    "        [ 1,  t, 0],\n",
    "        [-1, -t, 0],\n",
    "        [ 1, -t, 0],\n",
    "        [ 0, -1,  t],\n",
    "        [ 0,  1,  t],\n",
    "        [ 0, -1, -t],\n",
    "        [ 0,  1, -t],\n",
    "        [ t,  0, -1],\n",
    "        [ t,  0,  1],\n",
    "        [-t,  0, -1],\n",
    "        [-t,  0,  1],\n",
    "    ], dtype=float)\n",
    "    V /= np.linalg.norm(V, axis=1)[:, None]\n",
    "    F = np.array([\n",
    "        [0, 11, 5], [0, 5, 1], [0, 1, 7], [0, 7,10], [0,10,11],\n",
    "        [1, 5, 9], [5,11, 4], [11,10,2], [10,7,6], [7, 1, 8],\n",
    "        [3, 9, 4], [3, 4, 2], [3, 2, 6], [3, 6, 8], [3, 8, 9],\n",
    "        [4, 9, 5], [2, 4,11], [6, 2,10], [8, 6, 7], [9, 8, 1]\n",
    "    ], dtype=int)\n",
    "    return V, F\n",
    "\n",
    "def subdivide_sphere(V, F, levels=1):\n",
    "    \"\"\"Loop-subdivide each triangle and re-project to unit sphere.\"\"\"\n",
    "    for _ in range(levels):\n",
    "        mid_cache = {}\n",
    "        newF = []\n",
    "        def midpoint(i, j):\n",
    "            key = tuple(sorted((i, j)))\n",
    "            if key in mid_cache: return mid_cache[key]\n",
    "            m = (V[i] + V[j]) * 0.5\n",
    "            m = m / np.linalg.norm(m)\n",
    "            idx = len(V_list)\n",
    "            V_list.append(m)\n",
    "            mid_cache[key] = idx\n",
    "            return idx\n",
    "        V_list = [v.copy() for v in V]\n",
    "        for a,b,c in F:\n",
    "            ab = midpoint(a,b)\n",
    "            bc = midpoint(b,c)\n",
    "            ca = midpoint(c,a)\n",
    "            newF += [\n",
    "                [a, ab, ca],\n",
    "                [b, bc, ab],\n",
    "                [c, ca, bc],\n",
    "                [ab, bc, ca],\n",
    "            ]\n",
    "        V = np.asarray(V_list)\n",
    "        F = np.asarray(newF, dtype=int)\n",
    "    return V, F\n",
    "\n",
    "### Uncomment to visualize the mesh\n",
    "# a = 0.075              # sphere radius [m]\n",
    "# subdiv = 3\n",
    "# V, F = icosahedron()\n",
    "# V, F = subdivide_sphere(V, F, levels=subdiv)\n",
    "# V = a * V\n",
    "\n",
    "# pl = pv.Plotter()\n",
    "# pv_mesh = pv.PolyData(V, np.hstack([np.full((F.shape[0],1),3), F]))\n",
    "# pl.add_mesh(pv_mesh, show_edges=True)\n",
    "# pl.show()"
   ]
  },
  {
   "cell_type": "code",
   "execution_count": 3,
   "id": "cf7d4095",
   "metadata": {},
   "outputs": [],
   "source": [
    "def analytic_phi_pulsating_sphere(r: np.ndarray, \n",
    "                                  a: float, \n",
    "                                  k: float, \n",
    "                                  Vn: complex) -> np.ndarray:\n",
    "    \"\"\"Analytical exterior potential for a uniformly pulsating sphere.\n",
    "\n",
    "    Args:\n",
    "        r (np.ndarray): Radial distances where to evaluate, shape (M,).\n",
    "        a (float): Sphere radius.\n",
    "        k (float): Wavenumber (omega / c0).\n",
    "        Vn (complex): Uniform radial surface velocity.\n",
    "\n",
    "    Returns:\n",
    "        np.ndarray: Potential phi(r), shape (M,), complex.\n",
    "    \"\"\"\n",
    "    A = Vn * a*a / (1j*k*a - 1.0)\n",
    "    return A * np.exp(1j*k*(r - a)) / r"
   ]
  },
  {
   "cell_type": "code",
   "execution_count": 4,
   "id": "7416985e",
   "metadata": {},
   "outputs": [
    {
     "name": "stdout",
     "output_type": "stream",
     "text": [
      "Mesh has 642 vertices and 1280 faces.\n",
      "Characteristic length: 0.15 m\n",
      "Wavenumber: 18.32 1/m\n",
      "k*L = 2.75\n",
      "Wavelength: 0.34 m\n",
      "Velocity BC: 1.0000 to 1.0000 m/s\n"
     ]
    }
   ],
   "source": [
    "# Field point array\n",
    "plane_extent = 0.5\n",
    "plane_pts = 200\n",
    "\n",
    "# mesh and conditions setup\n",
    "frequency = 1000                       # frequency [Hz]\n",
    "c0 = 343                               # speed of sound [m/s]\n",
    "omega = 2 * np.pi * frequency          # angular frequency [rad/s]\n",
    "k = omega / c0                         # wavenumber [rad/m]\n",
    "rho0 = 1.225                           # density of air [kg/m^3]\n",
    "\n",
    "radius = 0.075                         # radius of pulsating sphere [m]\n",
    "Vn = 1.0 + 0j                          # normal velocity on sphere surface [m/s]\n",
    "subdiv = 3                             # mesh subdivision level\n",
    "nodes, elements = icosahedron()\n",
    "nodes, elements = subdivide_sphere(nodes, elements, levels=subdiv)\n",
    "nodes *= radius\n",
    "\n",
    "vel_BC = np.ones(nodes.shape[0]) * Vn\n",
    "\n",
    "Lx = np.max(nodes[:, 0]) - np.min(nodes[:, 0])\n",
    "Ly = np.max(nodes[:, 1]) - np.min(nodes[:, 1])\n",
    "Lz = np.max(nodes[:, 2]) - np.min(nodes[:, 2])\n",
    "\n",
    "char_length = np.max([Lx, Ly, Lz])\n",
    "\n",
    "# plane_extent = 5 * char_length\n",
    "\n",
    "xs = np.linspace(-plane_extent, plane_extent, plane_pts)\n",
    "zs = np.linspace(-plane_extent, plane_extent, plane_pts)\n",
    "XX, ZZ = np.meshgrid(xs, zs)\n",
    "YY = np.zeros_like(XX)\n",
    "\n",
    "field_pts = np.column_stack([XX.ravel(), YY.ravel(), ZZ.ravel()])\n",
    "\n",
    "center = nodes.mean(axis=0)\n",
    "r_exclude = 0.5 * char_length * 1.05\n",
    "\n",
    "dist = np.linalg.norm(field_pts - center, axis=1)\n",
    "mask = dist > r_exclude\n",
    "\n",
    "field_pts_safe = field_pts[mask, :]\n",
    "kernel_mode = \"halfspace_neumann\"\n",
    "\n",
    "plane_point = np.array([0.0, 0.0, -0.4])\n",
    "plane_normal = np.array([0.0, 0.0, 1.0])\n",
    "\n",
    "if kernel_mode == \"halfspace_neumann\":\n",
    "    mask_halfspace = (field_pts_safe[:, 2] >= plane_point[2])\n",
    "\n",
    "    field_pts_safe = field_pts_safe[mask_halfspace, :]\n",
    "    mask_final = np.zeros(field_pts.shape[0], dtype=bool)\n",
    "    mask_final[np.where(mask)[0][mask_halfspace]] = True\n",
    "    mask = mask_final\n",
    "\n",
    "print(f'Mesh has {nodes.shape[0]} vertices and {elements.shape[0]} faces.')\n",
    "print(f'Characteristic length: {char_length:.2f} m')\n",
    "print(f'Wavenumber: {k:.2f} 1/m')\n",
    "print(f'k*L = {k*char_length:.2f}')\n",
    "print(f'Wavelength: {2*np.pi/k:.2f} m')\n",
    "print(f'Velocity BC: {np.min(np.abs(vel_BC)):.4f} to {np.max(np.abs(vel_BC)):.4f} m/s')"
   ]
  },
  {
   "cell_type": "code",
   "execution_count": 5,
   "id": "d12397b8",
   "metadata": {},
   "outputs": [],
   "source": [
    "# Init package objects\n",
    "\n",
    "mesh = Mesh(mesh_nodes=nodes, \n",
    "            mesh_elements=elements, \n",
    "            Neumann_BC=vel_BC,\n",
    "            Dirichlet_BC=None,\n",
    "            frequency=frequency, \n",
    "            c0=c0, \n",
    "            rho0=rho0)\n",
    "integrator = ElementIntegratorCollocation(k = mesh.k,\n",
    "                                          kernel_mode = kernel_mode,\n",
    "                                          plane_point = plane_point,\n",
    "                                          plane_normal = plane_normal)\n",
    "assembler = CollocationAssembler(mesh, integrator)\n",
    "solver = BEMSolver(assembler=assembler)"
   ]
  },
  {
   "cell_type": "code",
   "execution_count": 6,
   "id": "7a8bc9f7",
   "metadata": {},
   "outputs": [
    {
     "name": "stdout",
     "output_type": "stream",
     "text": [
      "Assembling matrices...\n"
     ]
    },
    {
     "data": {
      "application/vnd.jupyter.widget-view+json": {
       "model_id": "fc0cad2d8e7b40ed905fb0224ef5ac7d",
       "version_major": 2,
       "version_minor": 0
      },
      "text/plain": [
       "Assembling S matrix:   0%|          | 0/642 [00:00<?, ?it/s]"
      ]
     },
     "metadata": {},
     "output_type": "display_data"
    },
    {
     "data": {
      "application/vnd.jupyter.widget-view+json": {
       "model_id": "12a8612ff38a44e68802e95162647231",
       "version_major": 2,
       "version_minor": 0
      },
      "text/plain": [
       "Assembling D matrix:   0%|          | 0/642 [00:00<?, ?it/s]"
      ]
     },
     "metadata": {},
     "output_type": "display_data"
    },
    {
     "data": {
      "application/vnd.jupyter.widget-view+json": {
       "model_id": "7679fdf9c3f7420cb137e3e743fd8a7d",
       "version_major": 2,
       "version_minor": 0
      },
      "text/plain": [
       "Assembling Kp matrix:   0%|          | 0/642 [00:00<?, ?it/s]"
      ]
     },
     "metadata": {},
     "output_type": "display_data"
    },
    {
     "data": {
      "application/vnd.jupyter.widget-view+json": {
       "model_id": "5e92cbada0124e0093b58234129cdd92",
       "version_major": 2,
       "version_minor": 0
      },
      "text/plain": [
       "Assembling NReg matrix:   0%|          | 0/642 [00:00<?, ?it/s]"
      ]
     },
     "metadata": {},
     "output_type": "display_data"
    },
    {
     "name": "stdout",
     "output_type": "stream",
     "text": [
      "  ... done in 73.91 s.\n",
      "Solving BIE...\n",
      "  ... done in 0.04 s.\n",
      "Evaluating field...\n"
     ]
    },
    {
     "data": {
      "application/vnd.jupyter.widget-view+json": {
       "model_id": "de368a9eed6f47ce98cd3e66977caf58",
       "version_major": 2,
       "version_minor": 0
      },
      "text/plain": [
       "Evaluating pressure field at points:   0%|          | 0/1280 [00:00<?, ?it/s]"
      ]
     },
     "metadata": {},
     "output_type": "display_data"
    },
    {
     "name": "stdout",
     "output_type": "stream",
     "text": [
      "  ... done in 75.35 s.\n"
     ]
    }
   ],
   "source": [
    "t_start = time.time()\n",
    "print(\"Assembling matrices...\")\n",
    "# mats = {\n",
    "#     \"S\": assembler.assemble(\"S\"),\n",
    "#     \"D\": assembler.assemble(\"D\"),\n",
    "#     # Kp and N not needed for this solve\n",
    "# }\n",
    "\n",
    "mats_bm = {\n",
    "    \"S\": assembler.assemble(\"S\"),\n",
    "    \"D\": assembler.assemble(\"D\"),\n",
    "    \"Kp\": assembler.assemble(\"Kp\"),\n",
    "    \"N\": assembler.assemble(\"NReg\"),\n",
    "}\n",
    "\n",
    "t_assembly = time.time()\n",
    "print(f\"  ... done in {t_assembly - t_start:.2f} s.\")\n",
    "\n",
    "# --- solve BIE for Neumann BC (normal velocity) ---\n",
    "print(\"Solving BIE...\")\n",
    "# phi_bnd = solver.solve_direct(matrices=mats)\n",
    "phi_bnd = solver.solve_burton_miller(matrices=mats_bm,\n",
    "                                     alpha = -1j/mesh.k)\n",
    "t_solve = time.time()\n",
    "print(f\"  ... done in {t_solve - t_assembly:.2f} s.\")\n",
    "\n",
    "# --- Evaluate **potential** then convert to pressure\n",
    "print(\"Evaluating field...\")\n",
    "phi_field = solver.evaluate_field(field_pts_safe, quad_order=3)\n",
    "p_field = 1j * omega * rho0 * phi_field\n",
    "p_full = np.full(field_pts.shape[0], np.nan, dtype=complex)\n",
    "p_full[mask] = p_field\n",
    "P_grid = p_full.reshape(XX.shape)\n",
    "t_evaluate = time.time()\n",
    "print(f\"  ... done in {t_evaluate - t_solve:.2f} s.\")"
   ]
  },
  {
   "cell_type": "code",
   "execution_count": 7,
   "id": "58f5f8e1",
   "metadata": {},
   "outputs": [
    {
     "data": {
      "image/png": "[encoded data removed]",
      "text/plain": [
       "<Figure size 700x600 with 2 Axes>"
      ]
     },
     "metadata": {},
     "output_type": "display_data"
    }
   ],
   "source": [
    "plt.figure(figsize=(7, 6))\n",
    "plt.pcolormesh(XX, ZZ, np.abs(P_grid), \n",
    "               shading=\"auto\", cmap=\"viridis\", \n",
    "               norm= colors.LogNorm(vmin=3, vmax=np.nanmax(np.abs(P_grid))))\n",
    "plt.xlim(-0.4, 0.4)\n",
    "plt.ylim(-0.4, 0.4)\n",
    "plt.colorbar(label=r\" Amplitude $p(x,z)$ [Pa]\")\n",
    "plt.xlabel(\"x [m]\")\n",
    "plt.ylabel(\"z [m]\")\n",
    "plt.title(\"BEM monopole\")\n",
    "plt.gca().set_aspect(\"equal\")\n",
    "plt.tight_layout()"
   ]
  },
  {
   "cell_type": "code",
   "execution_count": 8,
   "id": "c7f0aa5a",
   "metadata": {},
   "outputs": [],
   "source": [
    "omega = 2 * np.pi * frequency\n",
    "period = 2 * np.pi / omega\n",
    "n_frames = 40\n",
    "\n",
    "max_amp = np.nanmax(np.abs(P_grid))\n",
    "\n",
    "frames = []\n",
    "temp_writter = iio.get_writer('Monopole_HS_BM.gif', \n",
    "                              mode='I', \n",
    "                              duration=1,\n",
    "                              loop=0)\n",
    "\n",
    "with temp_writter as writer:\n",
    "    for i in range(n_frames):\n",
    "        t = i / n_frames * period\n",
    "        p_inst = np.real(P_grid * np.exp(-1j * omega * t))\n",
    "\n",
    "        fig, ax = plt.subplots(figsize=(7, 6))\n",
    "        im = ax.imshow(\n",
    "            p_inst,\n",
    "            extent=[XX.min(), XX.max(), ZZ.min(), ZZ.max()],\n",
    "            origin=\"lower\",\n",
    "            cmap=\"viridis\",\n",
    "            vmin = -max_amp,\n",
    "            vmax = max_amp,\n",
    "        )\n",
    "\n",
    "        ax.set_xlabel(\"x [m]\")\n",
    "        ax.set_ylabel(\"z [m]\")\n",
    "        ax.set_aspect(\"equal\")\n",
    "        fig.colorbar(im, ax=ax, label=\"Pressure [Pa]\")\n",
    "\n",
    "        buffer = BytesIO()\n",
    "        fig.savefig(buffer, format=\"png\", bbox_inches=\"tight\")\n",
    "        buffer.seek(0)\n",
    "        frame = iio.imread(buffer)\n",
    "        writer.append_data(frame)\n",
    "        plt.close(fig)\n",
    "\n",
    "buffer.close()\n",
    "writer.close()"
   ]
  },
  {
   "cell_type": "code",
   "execution_count": null,
   "id": "50744ed3",
   "metadata": {},
   "outputs": [],
   "source": []
  },
  {
   "cell_type": "code",
   "execution_count": null,
   "id": "2b165fe5",
   "metadata": {},
   "outputs": [],
   "source": []
  }
 ],
 "metadata": {
  "kernelspec": {
   "display_name": ".venv",
   "language": "python",
   "name": "python3"
  },
  "language_info": {
   "codemirror_mode": {
    "name": "ipython",
    "version": 3
   },
   "file_extension": ".py",
   "mimetype": "text/x-python",
   "name": "python",
   "nbconvert_exporter": "python",
   "pygments_lexer": "ipython3",
   "version": "3.12.9"
  }
 },
 "nbformat": 4,
 "nbformat_minor": 5
}
