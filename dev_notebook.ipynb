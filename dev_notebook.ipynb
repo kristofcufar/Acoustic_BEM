{
 "cells": [
  {
   "cell_type": "code",
   "execution_count": 1,
   "id": "1c2dfb87",
   "metadata": {},
   "outputs": [],
   "source": [
    "import numpy as np\n",
    "import matplotlib.pyplot as plt\n",
    "from math import pi\n",
    "import source.quadrature as quad\n",
    "\n",
    "%load_ext autoreload\n",
    "%autoreload 2"
   ]
  },
  {
   "cell_type": "code",
   "execution_count": 2,
   "id": "73a47c69",
   "metadata": {},
   "outputs": [
    {
     "name": "stdout",
     "output_type": "stream",
     "text": [
      "Triangles: 1280, Nodes: 642\n",
      "Analytic area       = 0.07068583 m^2\n",
      "Quadrature area     = 0.07034902 m^2\n",
      "Mesh (geom) area    = 0.07034902 m^2\n"
     ]
    }
   ],
   "source": [
    "def icosahedron():\n",
    "    t = (1.0 + np.sqrt(5.0)) / 2.0\n",
    "    V = np.array([\n",
    "        [-1,  t, 0],\n",
    "        [ 1,  t, 0],\n",
    "        [-1, -t, 0],\n",
    "        [ 1, -t, 0],\n",
    "        [ 0, -1,  t],\n",
    "        [ 0,  1,  t],\n",
    "        [ 0, -1, -t],\n",
    "        [ 0,  1, -t],\n",
    "        [ t,  0, -1],\n",
    "        [ t,  0,  1],\n",
    "        [-t,  0, -1],\n",
    "        [-t,  0,  1],\n",
    "    ], dtype=float)\n",
    "    V /= np.linalg.norm(V, axis=1)[:, None]\n",
    "    F = np.array([\n",
    "        [0, 11, 5], [0, 5, 1], [0, 1, 7], [0, 7,10], [0,10,11],\n",
    "        [1, 5, 9], [5,11, 4], [11,10,2], [10,7,6], [7, 1, 8],\n",
    "        [3, 9, 4], [3, 4, 2], [3, 2, 6], [3, 6, 8], [3, 8, 9],\n",
    "        [4, 9, 5], [2, 4,11], [6, 2,10], [8, 6, 7], [9, 8, 1]\n",
    "    ], dtype=int)\n",
    "    return V, F\n",
    "\n",
    "def subdivide_sphere(V, F, levels=1):\n",
    "    \"\"\"Loop-subdivide each triangle and re-project to unit sphere.\"\"\"\n",
    "    for _ in range(levels):\n",
    "        mid_cache = {}\n",
    "        newF = []\n",
    "        def midpoint(i, j):\n",
    "            key = tuple(sorted((i, j)))\n",
    "            if key in mid_cache: return mid_cache[key]\n",
    "            m = (V[i] + V[j]) * 0.5\n",
    "            m = m / np.linalg.norm(m)\n",
    "            idx = len(V_list)\n",
    "            V_list.append(m)\n",
    "            mid_cache[key] = idx\n",
    "            return idx\n",
    "        V_list = [v.copy() for v in V]\n",
    "        for a,b,c in F:\n",
    "            ab = midpoint(a,b)\n",
    "            bc = midpoint(b,c)\n",
    "            ca = midpoint(c,a)\n",
    "            newF += [\n",
    "                [a, ab, ca],\n",
    "                [b, bc, ab],\n",
    "                [c, ca, bc],\n",
    "                [ab, bc, ca],\n",
    "            ]\n",
    "        V = np.asarray(V_list)\n",
    "        F = np.asarray(newF, dtype=int)\n",
    "    return V, F\n",
    "\n",
    "\n",
    "a = 0.075              # sphere radius [m]\n",
    "subdiv = 3\n",
    "V, F = icosahedron()\n",
    "V, F = subdivide_sphere(V, F, levels=subdiv)\n",
    "V = a * V              # scale to radius a\n",
    "\n",
    "area_exact = 4.0 * pi * a * a\n",
    "\n",
    "# integrate constant f(y)=1 over the surface using triangle quadrature\n",
    "pts, w = quad.standard_triangle_quad(order=1)\n",
    "\n",
    "area_quad = 0.0\n",
    "for (i,j,k) in F:\n",
    "    tri = V[[i,j,k], :]\n",
    "    v0 = tri[0]\n",
    "    e1 = tri[1] - v0\n",
    "    e2 = tri[2] - v0\n",
    "    yq, a2 = quad.map_to_physical_triangle(pts, v0, e1, e2)\n",
    "    area_quad += np.sum(w) * a2\n",
    "\n",
    "def triangle_area(t):\n",
    "    e1 = t[1] - t[0]\n",
    "    e2 = t[2] - t[0]\n",
    "    return 0.5 * np.linalg.norm(np.cross(e1, e2))\n",
    "area_mesh = np.sum([triangle_area(V[[i,j,k]]) for (i,j,k) in F])\n",
    "\n",
    "print(f\"Triangles: {len(F)}, Nodes: {len(V)}\")\n",
    "print(f\"Analytic area       = {area_exact:.8f} m^2\")\n",
    "print(f\"Quadrature area     = {area_quad:.8f} m^2\")\n",
    "print(f\"Mesh (geom) area    = {area_mesh:.8f} m^2\")\n"
   ]
  },
  {
   "cell_type": "code",
   "execution_count": 3,
   "id": "c93f2c9a",
   "metadata": {},
   "outputs": [
    {
     "name": "stdout",
     "output_type": "stream",
     "text": [
      "Interpolated constant field integral  = 0.07034902 m^2\n",
      "Analytic sphere area                  = 0.07068583 m^2\n"
     ]
    }
   ],
   "source": [
    "def integrate_nodal_field_over_surface(V, F, nodal_values, quad_order=7):\n",
    "    pts, w = quad.standard_triangle_quad(order=quad_order)\n",
    "    Nvals = quad.shape_functions_P1(pts)\n",
    "    total = 0.0\n",
    "\n",
    "    for (i,j,k) in F:\n",
    "        tri_xyz = V[[i,j,k], :]\n",
    "        v0 = tri_xyz[0]\n",
    "        e1 = tri_xyz[1] - v0\n",
    "        e2 = tri_xyz[2] - v0\n",
    "        yq, a2 = quad.map_to_physical_triangle(pts, v0, e1, e2)\n",
    "        f_loc = np.array([nodal_values[i], \n",
    "                          nodal_values[j], \n",
    "                          nodal_values[k]], dtype=float)\n",
    "\n",
    "        f_q = Nvals @ f_loc\n",
    "\n",
    "        total += np.sum(w * f_q) * a2\n",
    "\n",
    "    return total\n",
    "\n",
    "# --- Case A: constant field f ≡ 1 via nodal interpolation ---\n",
    "f_nodes_const = np.ones(V.shape[0], dtype=float)\n",
    "I_const = integrate_nodal_field_over_surface(V, F, f_nodes_const, quad_order=7)\n",
    "\n",
    "print(f\"Interpolated constant field integral  = {I_const:.8f} m^2\")\n",
    "print(f\"Analytic sphere area                  = {area_exact:.8f} m^2\")"
   ]
  },
  {
   "cell_type": "code",
   "execution_count": 4,
   "id": "46b4acba",
   "metadata": {},
   "outputs": [
    {
     "name": "stdout",
     "output_type": "stream",
     "text": [
      "Integral of z over sphere (should be ~0): -9.621728548262067e-20\n"
     ]
    }
   ],
   "source": [
    "# --- Case B: linear field f(y)=z via nodal interpolation ---\n",
    "u_hat = np.array([0.0, 0.0, 1.0])                 # z-direction\n",
    "f_nodes_lin = V @ u_hat                            # f(y)=z at nodes\n",
    "I_lin = integrate_nodal_field_over_surface(V, F, f_nodes_lin, quad_order=7)\n",
    "print(\"Integral of z over sphere (should be ~0):\", I_lin)"
   ]
  },
  {
   "cell_type": "code",
   "execution_count": 5,
   "id": "a26b1740",
   "metadata": {},
   "outputs": [
    {
     "name": "stdout",
     "output_type": "stream",
     "text": [
      "Integral of z^2 over sphere (expect ~ (4πa^4)/3 ): 0.00013190441550084295  vs  0.00013253594007331938\n"
     ]
    }
   ],
   "source": [
    "# --- Case C: quadratic field f(y)=z^2 via nodal interpolation ---\n",
    "f_nodes_quad = (V[:,2]**2)\n",
    "I_z2 = integrate_nodal_field_over_surface(V, F, f_nodes_quad, quad_order=7)\n",
    "print(\"Integral of z^2 over sphere (expect ~ (4πa^4)/3 ):\",\n",
    "      I_z2, \" vs \", (4.0*pi*a**4)/3.0)"
   ]
  },
  {
   "cell_type": "code",
   "execution_count": 6,
   "id": "8a2cf07c",
   "metadata": {},
   "outputs": [
    {
     "name": "stdout",
     "output_type": "stream",
     "text": [
      "Std rule 1: sum(w)=0.50\n",
      "Std rule 3: sum(w)=0.50\n",
      "Std rule 7: sum(w)=0.50\n",
      "Duffy: sum(w)=0.50\n",
      "Telles: sum(w)=0.50\n"
     ]
    }
   ],
   "source": [
    "# 1) standard rules sum to 0.5\n",
    "for o in (1,3,7):\n",
    "    _, w = quad.standard_triangle_quad(o)\n",
    "    print(f\"Std rule {o}: sum(w)={w.sum():.2f}\")\n",
    "\n",
    "# 2) duffy sum is 0.5\n",
    "_, w = quad.duffy_rule(8)\n",
    "print(f\"Duffy: sum(w)={w.sum():.2f}\")\n",
    "\n",
    "# 3) telles sum is 0.5\n",
    "_, w = quad.telles_rule(u_star=0.2, v_star=0.3, n_leg=8)\n",
    "print(f\"Telles: sum(w)={w.sum():.2f}\")"
   ]
  },
  {
   "cell_type": "code",
   "execution_count": 47,
   "id": "773b1d80",
   "metadata": {},
   "outputs": [
    {
     "data": {
      "image/png": "[encoded data removed]",
      "text/plain": [
       "<Figure size 1200x800 with 6 Axes>"
      ]
     },
     "metadata": {},
     "output_type": "display_data"
    }
   ],
   "source": [
    "pts_1, w_1 = quad.standard_triangle_quad(order=1)\n",
    "pts_3, w_3 = quad.standard_triangle_quad(order=3)\n",
    "pts_7, w_7 = quad.standard_triangle_quad(order=7)\n",
    "pts_sub, w_sub = quad.subdivide_triangle_quad(xi_eta=pts_7, weights=w_7, levels=1)\n",
    "pts_duffy, w_duffy = quad.duffy_rule(8)\n",
    "pts_telles, w_telles = quad.telles_rule(u_star=0.55, v_star=0.55, n_leg=8)\n",
    "\n",
    "plt.subplots(2,3, figsize=(12,8))\n",
    "\n",
    "plt.subplot(2, 3, 1)\n",
    "plt.scatter(pts_1[:,0], pts_1[:,1], s=100*w_1, c='C0')\n",
    "plt.xlim(-0.1,1.1)\n",
    "plt.ylim(-0.1,1.1)\n",
    "plt.title(\"Standard order 1\")\n",
    "\n",
    "plt.subplot(2, 3, 2)\n",
    "plt.scatter(pts_3[:,0], pts_3[:,1], s=100*w_3, c='C0')\n",
    "plt.xlim(-0.1,1.1)\n",
    "plt.ylim(-0.1,1.1)\n",
    "plt.title(\"Standard order 3\")\n",
    "\n",
    "plt.subplot(2, 3, 3)\n",
    "plt.scatter(pts_7[:,0], pts_7[:,1], s=100*w_7, c='C0')\n",
    "plt.xlim(-0.1,1.1)\n",
    "plt.ylim(-0.1,1.1)\n",
    "plt.title(\"Standard order 7\")\n",
    "\n",
    "plt.subplot(2, 3, 4)\n",
    "plt.scatter(pts_sub[:,0], pts_sub[:,1], s=100*w_sub, c='C0')\n",
    "plt.xlim(-0.1,1.1)\n",
    "plt.ylim(-0.1,1.1)\n",
    "plt.title(\"Subdivided order 7\")\n",
    "\n",
    "plt.subplot(2, 3, 5)\n",
    "plt.scatter(pts_duffy[:,0], pts_duffy[:,1], s=100*w_duffy, c='C0')\n",
    "plt.xlim(-0.1,1.1)\n",
    "plt.ylim(-0.1,1.1)\n",
    "plt.title(\"Duffy order 8\")\n",
    "\n",
    "plt.subplot(2, 3, 6)\n",
    "plt.scatter(pts_telles[:,0], pts_telles[:,1], s=100*w_telles, c='C0')\n",
    "plt.xlim(-0.1,1.1)\n",
    "plt.ylim(-0.1,1.1)\n",
    "plt.title(\"Telles order 8\")\n",
    "plt.tight_layout()\n",
    "plt.show()"
   ]
  },
  {
   "cell_type": "code",
   "execution_count": null,
   "id": "b182c620",
   "metadata": {},
   "outputs": [],
   "source": []
  },
  {
   "cell_type": "code",
   "execution_count": null,
   "id": "e173caae",
   "metadata": {},
   "outputs": [],
   "source": []
  },
  {
   "cell_type": "code",
   "execution_count": null,
   "id": "badd7c2d",
   "metadata": {},
   "outputs": [],
   "source": []
  }
 ],
 "metadata": {
  "kernelspec": {
   "display_name": ".venv",
   "language": "python",
   "name": "python3"
  },
  "language_info": {
   "codemirror_mode": {
    "name": "ipython",
    "version": 3
   },
   "file_extension": ".py",
   "mimetype": "text/x-python",
   "name": "python",
   "nbconvert_exporter": "python",
   "pygments_lexer": "ipython3",
   "version": "3.12.9"
  }
 },
 "nbformat": 4,
 "nbformat_minor": 5
}
