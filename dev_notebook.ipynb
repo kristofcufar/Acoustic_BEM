{
 "cells": [
  {
   "cell_type": "code",
   "execution_count": 2,
   "id": "1c2dfb87",
   "metadata": {},
   "outputs": [],
   "source": [
    "import numpy as np\n",
    "import matplotlib.pyplot as plt\n",
    "\n",
    "from source.mesh import Mesh\n",
    "from source.integrators import ElementIntegratorCollocation\n",
    "from source.matrix_assembly import CollocationAssembler\n",
    "\n",
    "\n",
    "%load_ext autoreload\n",
    "%autoreload 2"
   ]
  },
  {
   "cell_type": "code",
   "execution_count": 15,
   "id": "b182c620",
   "metadata": {},
   "outputs": [
    {
     "name": "stdout",
     "output_type": "stream",
     "text": [
      "Assembled single-layer matrix S:\n",
      "[[ 0.01765426+0.01325287j -0.00348128-0.00424682j  0.00693247-0.00543364j\n",
      "   0.00089044+0.00276056j]\n",
      " [-0.00284734-0.00340896j -0.00231133+0.03441626j -0.00706415+0.00219832j\n",
      "   0.01082186+0.01285779j]\n",
      " [ 0.01276574+0.00300409j -0.00620239-0.00466971j -0.01215251+0.04258481j\n",
      "   0.01490091+0.01103805j]\n",
      " [ 0.00327713+0.00271066j  0.00538093+0.01176405j  0.01520089+0.01345482j\n",
      "  -0.01262501+0.04020267j]]\n",
      "Shape: (4, 4)\n"
     ]
    }
   ],
   "source": [
    "# ----------------------------------------------------------------------\n",
    "# 1) Create a small test mesh: 3 triangles forming a \"fan\" in the XY-plane\n",
    "# ----------------------------------------------------------------------\n",
    "# Vertices\n",
    "nodes = np.array([\n",
    "    [0.0, 0.0, 0.0],   # 0\n",
    "    [1.0, 0.0, 0.0],   # 1\n",
    "    [0.0, 1.0, 0.0],   # 2\n",
    "    [1.0, 1.0, 0.5],   # 3\n",
    "], dtype=float)\n",
    "\n",
    "# Triangles (connectivity by node indices)\n",
    "elements = np.array([\n",
    "    [0, 1, 2],   # tri 0\n",
    "    [1, 3, 2],   # tri 1\n",
    "    [0, 2, 3],   # tri 2\n",
    "], dtype=int)\n",
    "\n",
    "# Dummy velocity boundary condition (not used in assembly)\n",
    "vel_BC = np.zeros(nodes.shape[0])\n",
    "\n",
    "frequency = 1000.0  # Hz\n",
    "\n",
    "# ----------------------------------------------------------------------\n",
    "# 2) Instantiate Mesh\n",
    "# ----------------------------------------------------------------------\n",
    "mesh = Mesh(\n",
    "    mesh_nodes=nodes,\n",
    "    mesh_elements=elements,\n",
    "    velocity_BC=vel_BC,\n",
    "    frequency=frequency,\n",
    ")\n",
    "\n",
    "# ----------------------------------------------------------------------\n",
    "# 3) Create the integrator\n",
    "# ----------------------------------------------------------------------\n",
    "integrator = ElementIntegratorCollocation(k=mesh.k)\n",
    "\n",
    "# ----------------------------------------------------------------------\n",
    "# 4) Assemble the single-layer operator\n",
    "# ----------------------------------------------------------------------\n",
    "assembler = CollocationAssembler(mesh, integrator)\n",
    "S = assembler.assemble(operator=\"S\")\n",
    "D = assembler.assemble(operator=\"D\")\n",
    "Kp = assembler.assemble(operator=\"Kp\")\n",
    "N = assembler.assemble(operator=\"N\")\n",
    "\n",
    "print(\"Assembled single-layer matrix S:\")\n",
    "print(S)\n",
    "print(\"Shape:\", S.shape)"
   ]
  },
  {
   "cell_type": "code",
   "execution_count": 16,
   "id": "e173caae",
   "metadata": {},
   "outputs": [
    {
     "data": {
      "text/plain": [
       "<matplotlib.image.AxesImage at 0x16f968dfdd0>"
      ]
     },
     "execution_count": 16,
     "metadata": {},
     "output_type": "execute_result"
    },
    {
     "data": {
      "image/png": "[encoded data removed]",
      "text/plain": [
       "<Figure size 640x480 with 1 Axes>"
      ]
     },
     "metadata": {},
     "output_type": "display_data"
    }
   ],
   "source": [
    "plt.imshow(np.abs(S), cmap='viridis')"
   ]
  },
  {
   "cell_type": "code",
   "execution_count": 18,
   "id": "badd7c2d",
   "metadata": {},
   "outputs": [
    {
     "data": {
      "text/plain": [
       "array([[ 0.00000000e+00+0.00000000e+00j,  7.04775268e-03+1.82744158e-02j,\n",
       "         2.70721287e-03+1.15102931e-02j, -1.23019006e-03+1.70886332e-03j],\n",
       "       [-1.16994374e-02+2.58490235e-02j,  1.34744788e-17-6.69773277e-18j,\n",
       "         8.00192242e-04-2.32893056e-03j,  1.20327132e-02+1.34692697e-02j],\n",
       "       [ 0.00000000e+00+0.00000000e+00j,  1.46490930e-18-1.80028764e-18j,\n",
       "         9.13939577e-18-2.87728357e-17j,  6.13051694e-19-2.85697421e-18j],\n",
       "       [ 9.31939840e-03-2.80128032e-02j,  2.81599248e-03-6.65289763e-02j,\n",
       "         2.81599248e-03-6.65289763e-02j, -5.07504352e-18-1.66473211e-17j]])"
      ]
     },
     "execution_count": 18,
     "metadata": {},
     "output_type": "execute_result"
    }
   ],
   "source": [
    "D"
   ]
  },
  {
   "cell_type": "code",
   "execution_count": null,
   "id": "ed6c1f69",
   "metadata": {},
   "outputs": [],
   "source": []
  }
 ],
 "metadata": {
  "kernelspec": {
   "display_name": ".venv",
   "language": "python",
   "name": "python3"
  },
  "language_info": {
   "codemirror_mode": {
    "name": "ipython",
    "version": 3
   },
   "file_extension": ".py",
   "mimetype": "text/x-python",
   "name": "python",
   "nbconvert_exporter": "python",
   "pygments_lexer": "ipython3",
   "version": "3.11.5"
  }
 },
 "nbformat": 4,
 "nbformat_minor": 5
}
